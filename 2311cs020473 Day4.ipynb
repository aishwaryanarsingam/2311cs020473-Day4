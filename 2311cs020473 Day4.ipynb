{
 "cells": [
  {
   "cell_type": "code",
   "execution_count": 1,
   "id": "ef8783ab-929a-4821-be7b-e7f310269414",
   "metadata": {},
   "outputs": [
    {
     "name": "stdin",
     "output_type": "stream",
     "text": [
      "Enter a positive integer:  2\n"
     ]
    },
    {
     "name": "stdout",
     "output_type": "stream",
     "text": [
      "The sum of all even numbers between 1 and 2 is 2.\n"
     ]
    }
   ],
   "source": [
    "\n",
    "n = int(input(\"Enter a positive integer: \"))\n",
    "\n",
    "\n",
    "even_sum = 0\n",
    "\n",
    "\n",
    "for i in range(1, n + 1):\n",
    "    if i % 2 == 0:  \n",
    "        even_sum += i  \n",
    "\n",
    "print(f\"The sum of all even numbers between 1 and {n} is {even_sum}.\")"
   ]
  },
  {
   "cell_type": "code",
   "execution_count": null,
   "id": "032ce74f-c236-4d9d-b5fb-c83e406e1f71",
   "metadata": {},
   "outputs": [],
   "source": []
  }
 ],
 "metadata": {
  "kernelspec": {
   "display_name": "Python [conda env:base] *",
   "language": "python",
   "name": "conda-base-py"
  },
  "language_info": {
   "codemirror_mode": {
    "name": "ipython",
    "version": 3
   },
   "file_extension": ".py",
   "mimetype": "text/x-python",
   "name": "python",
   "nbconvert_exporter": "python",
   "pygments_lexer": "ipython3",
   "version": "3.12.7"
  }
 },
 "nbformat": 4,
 "nbformat_minor": 5
}
